{
  "nbformat": 4,
  "nbformat_minor": 0,
  "metadata": {
    "colab": {
      "name": "shelsea enoch.ipynb",
      "provenance": []
    },
    "kernelspec": {
      "name": "python3",
      "display_name": "Python 3"
    },
    "language_info": {
      "name": "python"
    }
  },
  "cells": [
    {
      "cell_type": "code",
      "metadata": {
        "colab": {
          "base_uri": "https://localhost:8080/"
        },
        "id": "Gc7S7r5lMQGQ",
        "outputId": "3d37b79a-827f-48b7-86bf-804146a51fd5"
      },
      "source": [
        "import numpy as np\n",
        "import pandas as pd\n",
        "import sklearn\n",
        "\n",
        "from sklearn.datasets import load_boston\n",
        "df= load_boston()\n",
        "\n",
        "df.keys()\n",
        "\n",
        "print(df.data)\n",
        "\n",
        "boston=pd.DataFrame(df.data, columns=df.feature_names)\n",
        "boston.head()\n",
        "\n",
        "boston[\"COST\"] =df.target\n",
        "boston.head()\n",
        "\n",
        "boston.isnull()\n",
        "\n",
        "boston.isnull().sum()\n",
        "\n",
        "from sklearn.model_selection import train_test_split\n",
        "X= boston.drop('COST', axis=1)\n",
        "Y= boston['COST']\n",
        "\n",
        "X_train, X_test, Y_train, Y_test= train_test_split(X,Y, test_size=0.7, random_state=9)\n",
        "print(X_train.shape)\n",
        "print(Y_test.shape)\n",
        "print(Y_train.shape)\n",
        "print(Y_test.shape)\n",
        "\n",
        "from sklearn.linear_model import LinearRegression\n",
        "from sklearn.metrics import mean_squared_error\n",
        "\n",
        "lin_model=LinearRegression()\n",
        "lin_model.fit(X_train, Y_train)\n",
        "\n",
        "Y_train_predict= lin_model.predict(X_train)\n",
        "md= (np.sqrt(mean_squared_error(Y_train,Y_train_predict)))\n",
        "print(\"The model performance for talking set\")\n",
        "print('MD is {}'.format(md))\n",
        "print(\"\\n\")\n",
        "\n",
        "Y_test_predict= lin_model.predict(X_test)\n",
        "md= (np.sqrt(mean_squared_error(Y_train,Y_train_predict)))\n",
        "print(\"The model performance for testing set\")\n",
        "print('MD is {}'.format(md))\n",
        "print(\".\\n\")"
      ],
      "execution_count": 19,
      "outputs": [
        {
          "output_type": "stream",
          "text": [
            "[[6.3200e-03 1.8000e+01 2.3100e+00 ... 1.5300e+01 3.9690e+02 4.9800e+00]\n",
            " [2.7310e-02 0.0000e+00 7.0700e+00 ... 1.7800e+01 3.9690e+02 9.1400e+00]\n",
            " [2.7290e-02 0.0000e+00 7.0700e+00 ... 1.7800e+01 3.9283e+02 4.0300e+00]\n",
            " ...\n",
            " [6.0760e-02 0.0000e+00 1.1930e+01 ... 2.1000e+01 3.9690e+02 5.6400e+00]\n",
            " [1.0959e-01 0.0000e+00 1.1930e+01 ... 2.1000e+01 3.9345e+02 6.4800e+00]\n",
            " [4.7410e-02 0.0000e+00 1.1930e+01 ... 2.1000e+01 3.9690e+02 7.8800e+00]]\n",
            "(151, 13)\n",
            "(355,)\n",
            "(151,)\n",
            "(355,)\n",
            "The model performance for talking set\n",
            "MD is 4.974071297280925\n",
            "\n",
            "\n",
            "The model performance for testing set\n",
            "MD is 4.974071297280925\n",
            ".\n",
            "\n"
          ],
          "name": "stdout"
        }
      ]
    }
  ]
}